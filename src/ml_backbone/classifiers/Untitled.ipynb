{
 "cells": [
  {
   "cell_type": "code",
   "execution_count": 1,
   "id": "97747fbe-d1b4-46d0-b451-f99368659159",
   "metadata": {},
   "outputs": [],
   "source": [
    "from classifiers_util import *\n",
    "from lstm_pulseNum_classifier import CustomLSTMClassifier"
   ]
  },
  {
   "cell_type": "code",
   "execution_count": 4,
   "id": "25e85669-39e2-4f4c-b389-3bd2b3448a25",
   "metadata": {},
   "outputs": [],
   "source": [
    "data = {\n",
    "    \"hidden_size\": 128,#128\n",
    "    \"num_lstm_layers\": 3,\n",
    "    \"bidirectional\": True,\n",
    "    \"fc_layers\": [32, 64],\n",
    "    \"dropout\": 0.2,\n",
    "    \"lstm_dropout\": 0.2,\n",
    "    \"layerNorm\": False,\n",
    "    # Other parameters are default or not provided in the example\n",
    "}   \n",
    "\n",
    "# Assuming input_size and num_classes are defined elsewhere\n",
    "input_size = 512  # Define your input size\n",
    "num_classes = 5   # Example number of classes\n",
    "\n",
    "# Instantiate the CustomLSTMClassifier\n",
    "classModel = CustomLSTMClassifier(\n",
    "    input_size=input_size,\n",
    "    hidden_size=data['hidden_size'],\n",
    "    num_lstm_layers=data['num_lstm_layers'],\n",
    "    num_classes=num_classes,\n",
    "    bidirectional=data['bidirectional'],\n",
    "    fc_layers=data['fc_layers'],\n",
    "    dropout_p=data['dropout'],\n",
    "    lstm_dropout=data['lstm_dropout'],\n",
    "    layer_norm=data['layerNorm'],\n",
    "    ignore_output_layer=False  # Set as needed based on your application\n",
    ")\n"
   ]
  },
  {
   "cell_type": "code",
   "execution_count": 9,
   "id": "a0c8a855-2c4a-4964-9eb9-061d540b214f",
   "metadata": {},
   "outputs": [
    {
     "name": "stdout",
     "output_type": "stream",
     "text": [
      "==========================================================================================\n",
      "Layer (type:depth-idx)                   Output Shape              Param #\n",
      "==========================================================================================\n",
      "CustomLSTMClassifier                     [1, 5]                    --\n",
      "├─LSTM: 1-1                              [1, 16, 256]              1,447,936\n",
      "├─Sequential: 1-2                        [1, 64]                   --\n",
      "│    └─Linear: 2-1                       [1, 32]                   8,224\n",
      "│    └─ReLU: 2-2                         [1, 32]                   --\n",
      "│    └─Dropout: 2-3                      [1, 32]                   --\n",
      "│    └─Linear: 2-4                       [1, 64]                   2,112\n",
      "│    └─ReLU: 2-5                         [1, 64]                   --\n",
      "│    └─Dropout: 2-6                      [1, 64]                   --\n",
      "├─Linear: 1-3                            [1, 5]                    325\n",
      "==========================================================================================\n",
      "Total params: 1,458,597\n",
      "Trainable params: 1,458,597\n",
      "Non-trainable params: 0\n",
      "Total mult-adds (Units.MEGABYTES): 23.18\n",
      "==========================================================================================\n",
      "Input size (MB): 0.03\n",
      "Forward/backward pass size (MB): 0.03\n",
      "Params size (MB): 5.83\n",
      "Estimated Total Size (MB): 5.90\n",
      "==========================================================================================\n"
     ]
    }
   ],
   "source": [
    "print(summary(classModel, input_size=(1, 16, 512)))\n"
   ]
  },
  {
   "cell_type": "code",
   "execution_count": null,
   "id": "e3a5d807-5e1a-4337-874f-b0603a775b80",
   "metadata": {},
   "outputs": [],
   "source": []
  }
 ],
 "metadata": {
  "kernelspec": {
   "display_name": "Python 3 (ipykernel)",
   "language": "python",
   "name": "python3"
  },
  "language_info": {
   "codemirror_mode": {
    "name": "ipython",
    "version": 3
   },
   "file_extension": ".py",
   "mimetype": "text/x-python",
   "name": "python",
   "nbconvert_exporter": "python",
   "pygments_lexer": "ipython3",
   "version": "3.12.4"
  }
 },
 "nbformat": 4,
 "nbformat_minor": 5
}
